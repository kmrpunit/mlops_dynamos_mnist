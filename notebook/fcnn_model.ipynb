{
 "cells": [
  {
   "cell_type": "code",
   "execution_count": null,
   "id": "5c9f08ba-d55d-4e48-a319-392edca33920",
   "metadata": {},
   "outputs": [],
   "source": []
  },
  {
   "cell_type": "code",
   "execution_count": 1,
   "id": "b5b77122-779a-4dd5-bbc6-8b663bac240a",
   "metadata": {},
   "outputs": [
    {
     "name": "stdout",
     "output_type": "stream",
     "text": [
      "FCNNTrainAndPredict: __init__\n",
      "[0 4 1 ... 5 6 8]\n",
      "         0  0.1  0.2  0.3  0.4  0.5  0.6  0.7  0.8  0.9  ...  0.608  0.609  \\\n",
      "0      0.0  0.0  0.0  0.0  0.0  0.0  0.0  0.0  0.0  0.0  ...    0.0    0.0   \n",
      "1      0.0  0.0  0.0  0.0  0.0  0.0  0.0  0.0  0.0  0.0  ...    0.0    0.0   \n",
      "2      0.0  0.0  0.0  0.0  0.0  0.0  0.0  0.0  0.0  0.0  ...    0.0    0.0   \n",
      "3      0.0  0.0  0.0  0.0  0.0  0.0  0.0  0.0  0.0  0.0  ...    0.0    0.0   \n",
      "4      0.0  0.0  0.0  0.0  0.0  0.0  0.0  0.0  0.0  0.0  ...    0.0    0.0   \n",
      "...    ...  ...  ...  ...  ...  ...  ...  ...  ...  ...  ...    ...    ...   \n",
      "59994  0.0  0.0  0.0  0.0  0.0  0.0  0.0  0.0  0.0  0.0  ...    0.0    0.0   \n",
      "59995  0.0  0.0  0.0  0.0  0.0  0.0  0.0  0.0  0.0  0.0  ...    0.0    0.0   \n",
      "59996  0.0  0.0  0.0  0.0  0.0  0.0  0.0  0.0  0.0  0.0  ...    0.0    0.0   \n",
      "59997  0.0  0.0  0.0  0.0  0.0  0.0  0.0  0.0  0.0  0.0  ...    0.0    0.0   \n",
      "59998  0.0  0.0  0.0  0.0  0.0  0.0  0.0  0.0  0.0  0.0  ...    0.0    0.0   \n",
      "\n",
      "       0.610  0.611  0.612  0.613  0.614  0.615  0.616  0.617  \n",
      "0        0.0    0.0    0.0    0.0    0.0    0.0    0.0    0.0  \n",
      "1        0.0    0.0    0.0    0.0    0.0    0.0    0.0    0.0  \n",
      "2        0.0    0.0    0.0    0.0    0.0    0.0    0.0    0.0  \n",
      "3        0.0    0.0    0.0    0.0    0.0    0.0    0.0    0.0  \n",
      "4        0.0    0.0    0.0    0.0    0.0    0.0    0.0    0.0  \n",
      "...      ...    ...    ...    ...    ...    ...    ...    ...  \n",
      "59994    0.0    0.0    0.0    0.0    0.0    0.0    0.0    0.0  \n",
      "59995    0.0    0.0    0.0    0.0    0.0    0.0    0.0    0.0  \n",
      "59996    0.0    0.0    0.0    0.0    0.0    0.0    0.0    0.0  \n",
      "59997    0.0    0.0    0.0    0.0    0.0    0.0    0.0    0.0  \n",
      "59998    0.0    0.0    0.0    0.0    0.0    0.0    0.0    0.0  \n",
      "\n",
      "[59999 rows x 784 columns]\n",
      "FCNNTrainAndPredict: train_and_evaluate\n",
      "FCNNTrainAndPredict: train\n"
     ]
    },
    {
     "data": {
      "text/html": [
       "<pre style=\"white-space:pre;overflow-x:auto;line-height:normal;font-family:Menlo,'DejaVu Sans Mono',consolas,'Courier New',monospace\"><span style=\"font-weight: bold\">Model: \"sequential\"</span>\n",
       "</pre>\n"
      ],
      "text/plain": [
       "\u001b[1mModel: \"sequential\"\u001b[0m\n"
      ]
     },
     "metadata": {},
     "output_type": "display_data"
    },
    {
     "data": {
      "text/html": [
       "<pre style=\"white-space:pre;overflow-x:auto;line-height:normal;font-family:Menlo,'DejaVu Sans Mono',consolas,'Courier New',monospace\">┏━━━━━━━━━━━━━━━━━━━━━━━━━━━━━━━━━┳━━━━━━━━━━━━━━━━━━━━━━━━┳━━━━━━━━━━━━━━━┓\n",
       "┃<span style=\"font-weight: bold\"> Layer (type)                    </span>┃<span style=\"font-weight: bold\"> Output Shape           </span>┃<span style=\"font-weight: bold\">       Param # </span>┃\n",
       "┡━━━━━━━━━━━━━━━━━━━━━━━━━━━━━━━━━╇━━━━━━━━━━━━━━━━━━━━━━━━╇━━━━━━━━━━━━━━━┩\n",
       "│ dense (<span style=\"color: #0087ff; text-decoration-color: #0087ff\">Dense</span>)                   │ (<span style=\"color: #00d7ff; text-decoration-color: #00d7ff\">None</span>, <span style=\"color: #00af00; text-decoration-color: #00af00\">128</span>)            │       <span style=\"color: #00af00; text-decoration-color: #00af00\">100,480</span> │\n",
       "├─────────────────────────────────┼────────────────────────┼───────────────┤\n",
       "│ dropout (<span style=\"color: #0087ff; text-decoration-color: #0087ff\">Dropout</span>)               │ (<span style=\"color: #00d7ff; text-decoration-color: #00d7ff\">None</span>, <span style=\"color: #00af00; text-decoration-color: #00af00\">128</span>)            │             <span style=\"color: #00af00; text-decoration-color: #00af00\">0</span> │\n",
       "├─────────────────────────────────┼────────────────────────┼───────────────┤\n",
       "│ dense_1 (<span style=\"color: #0087ff; text-decoration-color: #0087ff\">Dense</span>)                 │ (<span style=\"color: #00d7ff; text-decoration-color: #00d7ff\">None</span>, <span style=\"color: #00af00; text-decoration-color: #00af00\">128</span>)            │        <span style=\"color: #00af00; text-decoration-color: #00af00\">16,512</span> │\n",
       "├─────────────────────────────────┼────────────────────────┼───────────────┤\n",
       "│ dropout_1 (<span style=\"color: #0087ff; text-decoration-color: #0087ff\">Dropout</span>)             │ (<span style=\"color: #00d7ff; text-decoration-color: #00d7ff\">None</span>, <span style=\"color: #00af00; text-decoration-color: #00af00\">128</span>)            │             <span style=\"color: #00af00; text-decoration-color: #00af00\">0</span> │\n",
       "├─────────────────────────────────┼────────────────────────┼───────────────┤\n",
       "│ dense_2 (<span style=\"color: #0087ff; text-decoration-color: #0087ff\">Dense</span>)                 │ (<span style=\"color: #00d7ff; text-decoration-color: #00d7ff\">None</span>, <span style=\"color: #00af00; text-decoration-color: #00af00\">10</span>)             │         <span style=\"color: #00af00; text-decoration-color: #00af00\">1,290</span> │\n",
       "└─────────────────────────────────┴────────────────────────┴───────────────┘\n",
       "</pre>\n"
      ],
      "text/plain": [
       "┏━━━━━━━━━━━━━━━━━━━━━━━━━━━━━━━━━┳━━━━━━━━━━━━━━━━━━━━━━━━┳━━━━━━━━━━━━━━━┓\n",
       "┃\u001b[1m \u001b[0m\u001b[1mLayer (type)                   \u001b[0m\u001b[1m \u001b[0m┃\u001b[1m \u001b[0m\u001b[1mOutput Shape          \u001b[0m\u001b[1m \u001b[0m┃\u001b[1m \u001b[0m\u001b[1m      Param #\u001b[0m\u001b[1m \u001b[0m┃\n",
       "┡━━━━━━━━━━━━━━━━━━━━━━━━━━━━━━━━━╇━━━━━━━━━━━━━━━━━━━━━━━━╇━━━━━━━━━━━━━━━┩\n",
       "│ dense (\u001b[38;5;33mDense\u001b[0m)                   │ (\u001b[38;5;45mNone\u001b[0m, \u001b[38;5;34m128\u001b[0m)            │       \u001b[38;5;34m100,480\u001b[0m │\n",
       "├─────────────────────────────────┼────────────────────────┼───────────────┤\n",
       "│ dropout (\u001b[38;5;33mDropout\u001b[0m)               │ (\u001b[38;5;45mNone\u001b[0m, \u001b[38;5;34m128\u001b[0m)            │             \u001b[38;5;34m0\u001b[0m │\n",
       "├─────────────────────────────────┼────────────────────────┼───────────────┤\n",
       "│ dense_1 (\u001b[38;5;33mDense\u001b[0m)                 │ (\u001b[38;5;45mNone\u001b[0m, \u001b[38;5;34m128\u001b[0m)            │        \u001b[38;5;34m16,512\u001b[0m │\n",
       "├─────────────────────────────────┼────────────────────────┼───────────────┤\n",
       "│ dropout_1 (\u001b[38;5;33mDropout\u001b[0m)             │ (\u001b[38;5;45mNone\u001b[0m, \u001b[38;5;34m128\u001b[0m)            │             \u001b[38;5;34m0\u001b[0m │\n",
       "├─────────────────────────────────┼────────────────────────┼───────────────┤\n",
       "│ dense_2 (\u001b[38;5;33mDense\u001b[0m)                 │ (\u001b[38;5;45mNone\u001b[0m, \u001b[38;5;34m10\u001b[0m)             │         \u001b[38;5;34m1,290\u001b[0m │\n",
       "└─────────────────────────────────┴────────────────────────┴───────────────┘\n"
      ]
     },
     "metadata": {},
     "output_type": "display_data"
    },
    {
     "data": {
      "text/html": [
       "<pre style=\"white-space:pre;overflow-x:auto;line-height:normal;font-family:Menlo,'DejaVu Sans Mono',consolas,'Courier New',monospace\"><span style=\"font-weight: bold\"> Total params: </span><span style=\"color: #00af00; text-decoration-color: #00af00\">118,282</span> (462.04 KB)\n",
       "</pre>\n"
      ],
      "text/plain": [
       "\u001b[1m Total params: \u001b[0m\u001b[38;5;34m118,282\u001b[0m (462.04 KB)\n"
      ]
     },
     "metadata": {},
     "output_type": "display_data"
    },
    {
     "data": {
      "text/html": [
       "<pre style=\"white-space:pre;overflow-x:auto;line-height:normal;font-family:Menlo,'DejaVu Sans Mono',consolas,'Courier New',monospace\"><span style=\"font-weight: bold\"> Trainable params: </span><span style=\"color: #00af00; text-decoration-color: #00af00\">118,282</span> (462.04 KB)\n",
       "</pre>\n"
      ],
      "text/plain": [
       "\u001b[1m Trainable params: \u001b[0m\u001b[38;5;34m118,282\u001b[0m (462.04 KB)\n"
      ]
     },
     "metadata": {},
     "output_type": "display_data"
    },
    {
     "data": {
      "text/html": [
       "<pre style=\"white-space:pre;overflow-x:auto;line-height:normal;font-family:Menlo,'DejaVu Sans Mono',consolas,'Courier New',monospace\"><span style=\"font-weight: bold\"> Non-trainable params: </span><span style=\"color: #00af00; text-decoration-color: #00af00\">0</span> (0.00 B)\n",
       "</pre>\n"
      ],
      "text/plain": [
       "\u001b[1m Non-trainable params: \u001b[0m\u001b[38;5;34m0\u001b[0m (0.00 B)\n"
      ]
     },
     "metadata": {},
     "output_type": "display_data"
    },
    {
     "name": "stdout",
     "output_type": "stream",
     "text": [
      "Epoch 1/10\n",
      "\u001b[1m1875/1875\u001b[0m \u001b[32m━━━━━━━━━━━━━━━━━━━━\u001b[0m\u001b[37m\u001b[0m \u001b[1m7s\u001b[0m 3ms/step - accuracy: 0.8483 - loss: 0.4968\n",
      "Epoch 2/10\n",
      "\u001b[1m1875/1875\u001b[0m \u001b[32m━━━━━━━━━━━━━━━━━━━━\u001b[0m\u001b[37m\u001b[0m \u001b[1m6s\u001b[0m 3ms/step - accuracy: 0.9576 - loss: 0.1394\n",
      "Epoch 3/10\n",
      "\u001b[1m1875/1875\u001b[0m \u001b[32m━━━━━━━━━━━━━━━━━━━━\u001b[0m\u001b[37m\u001b[0m \u001b[1m6s\u001b[0m 3ms/step - accuracy: 0.9689 - loss: 0.1009\n",
      "Epoch 4/10\n",
      "\u001b[1m1875/1875\u001b[0m \u001b[32m━━━━━━━━━━━━━━━━━━━━\u001b[0m\u001b[37m\u001b[0m \u001b[1m6s\u001b[0m 3ms/step - accuracy: 0.9746 - loss: 0.0800\n",
      "Epoch 5/10\n",
      "\u001b[1m1875/1875\u001b[0m \u001b[32m━━━━━━━━━━━━━━━━━━━━\u001b[0m\u001b[37m\u001b[0m \u001b[1m6s\u001b[0m 3ms/step - accuracy: 0.9793 - loss: 0.0639\n",
      "Epoch 6/10\n",
      "\u001b[1m1875/1875\u001b[0m \u001b[32m━━━━━━━━━━━━━━━━━━━━\u001b[0m\u001b[37m\u001b[0m \u001b[1m6s\u001b[0m 3ms/step - accuracy: 0.9822 - loss: 0.0554\n",
      "Epoch 7/10\n",
      "\u001b[1m1875/1875\u001b[0m \u001b[32m━━━━━━━━━━━━━━━━━━━━\u001b[0m\u001b[37m\u001b[0m \u001b[1m7s\u001b[0m 4ms/step - accuracy: 0.9836 - loss: 0.0509\n",
      "Epoch 8/10\n",
      "\u001b[1m1875/1875\u001b[0m \u001b[32m━━━━━━━━━━━━━━━━━━━━\u001b[0m\u001b[37m\u001b[0m \u001b[1m6s\u001b[0m 3ms/step - accuracy: 0.9847 - loss: 0.0460\n",
      "Epoch 9/10\n",
      "\u001b[1m1875/1875\u001b[0m \u001b[32m━━━━━━━━━━━━━━━━━━━━\u001b[0m\u001b[37m\u001b[0m \u001b[1m6s\u001b[0m 3ms/step - accuracy: 0.9869 - loss: 0.0416\n",
      "Epoch 10/10\n",
      "\u001b[1m1875/1875\u001b[0m \u001b[32m━━━━━━━━━━━━━━━━━━━━\u001b[0m\u001b[37m\u001b[0m \u001b[1m6s\u001b[0m 3ms/step - accuracy: 0.9869 - loss: 0.0392\n",
      "FCNNTrainAndPredict: evaluate\n",
      "\u001b[1m313/313\u001b[0m \u001b[32m━━━━━━━━━━━━━━━━━━━━\u001b[0m\u001b[37m\u001b[0m \u001b[1m0s\u001b[0m 1ms/step\n",
      "\u001b[1m313/313\u001b[0m \u001b[32m━━━━━━━━━━━━━━━━━━━━\u001b[0m\u001b[37m\u001b[0m \u001b[1m0s\u001b[0m 1ms/step\n",
      "    mean_fit_time  std_fit_time  mean_score_time  std_score_time  \\\n",
      "0      199.734325      6.905939        19.865529        1.459317   \n",
      "1      199.654868      4.396930        19.977643        0.852885   \n",
      "2      362.473158      6.254507        15.605823        2.247479   \n",
      "3      377.491180      4.975506         8.826632        3.075077   \n",
      "4      128.948029      6.439683        14.169183        0.315773   \n",
      "5      128.416502     22.848754        15.503466        0.629149   \n",
      "6      261.755209     24.312026        13.094835        4.254429   \n",
      "7      239.385783      3.532587         6.018925        1.566053   \n",
      "8      115.746348      5.901689        11.646959        1.621707   \n",
      "9      111.527013      2.702747        10.488170        0.765971   \n",
      "10     149.569044     10.119839         2.863015        0.623754   \n",
      "11     101.447358     19.053735         1.053140        0.332438   \n",
      "\n",
      "    param_batch_size  param_epochs param_optimizer  \\\n",
      "0                 32             5            adam   \n",
      "1                 32             5         rmsprop   \n",
      "2                 32            10            adam   \n",
      "3                 32            10         rmsprop   \n",
      "4                 64             5            adam   \n",
      "5                 64             5         rmsprop   \n",
      "6                 64            10            adam   \n",
      "7                 64            10         rmsprop   \n",
      "8                128             5            adam   \n",
      "9                128             5         rmsprop   \n",
      "10               128            10            adam   \n",
      "11               128            10         rmsprop   \n",
      "\n",
      "                                               params  split0_test_score  \\\n",
      "0   {'batch_size': 32, 'epochs': 5, 'optimizer': '...            0.96885   \n",
      "1   {'batch_size': 32, 'epochs': 5, 'optimizer': '...            0.97260   \n",
      "2   {'batch_size': 32, 'epochs': 10, 'optimizer': ...            0.97670   \n",
      "3   {'batch_size': 32, 'epochs': 10, 'optimizer': ...            0.97525   \n",
      "4   {'batch_size': 64, 'epochs': 5, 'optimizer': '...            0.97225   \n",
      "5   {'batch_size': 64, 'epochs': 5, 'optimizer': '...            0.97075   \n",
      "6   {'batch_size': 64, 'epochs': 10, 'optimizer': ...            0.97785   \n",
      "7   {'batch_size': 64, 'epochs': 10, 'optimizer': ...            0.97505   \n",
      "8   {'batch_size': 128, 'epochs': 5, 'optimizer': ...            0.97235   \n",
      "9   {'batch_size': 128, 'epochs': 5, 'optimizer': ...            0.97070   \n",
      "10  {'batch_size': 128, 'epochs': 10, 'optimizer':...            0.97645   \n",
      "11  {'batch_size': 128, 'epochs': 10, 'optimizer':...            0.97630   \n",
      "\n",
      "    split1_test_score  split2_test_score  mean_test_score  std_test_score  \\\n",
      "0             0.96765           0.971549         0.969350        0.001630   \n",
      "1             0.97035           0.970899         0.971283        0.000958   \n",
      "2             0.97440           0.973599         0.974900        0.001314   \n",
      "3             0.97090           0.973649         0.973266        0.001796   \n",
      "4             0.96830           0.967298         0.969283        0.002138   \n",
      "5             0.97115           0.971899         0.971266        0.000476   \n",
      "6             0.97205           0.971899         0.973933        0.002771   \n",
      "7             0.97430           0.974199         0.974516        0.000380   \n",
      "8             0.96775           0.968598         0.969566        0.001999   \n",
      "9             0.96940           0.969448         0.969849        0.000602   \n",
      "10            0.96920           0.973749         0.973133        0.002992   \n",
      "11            0.97285           0.973449         0.974200        0.001505   \n",
      "\n",
      "    rank_test_score  \n",
      "0                11  \n",
      "1                 7  \n",
      "2                 1  \n",
      "3                 5  \n",
      "4                12  \n",
      "5                 8  \n",
      "6                 4  \n",
      "7                 2  \n",
      "8                10  \n",
      "9                 9  \n",
      "10                6  \n",
      "11                3  \n",
      "0.969350 (0.001630) with: {'batch_size': 32, 'epochs': 5, 'optimizer': 'adam'}\n",
      "0.971283 (0.000958) with: {'batch_size': 32, 'epochs': 5, 'optimizer': 'rmsprop'}\n",
      "0.974900 (0.001314) with: {'batch_size': 32, 'epochs': 10, 'optimizer': 'adam'}\n",
      "0.973266 (0.001796) with: {'batch_size': 32, 'epochs': 10, 'optimizer': 'rmsprop'}\n",
      "0.969283 (0.002138) with: {'batch_size': 64, 'epochs': 5, 'optimizer': 'adam'}\n",
      "0.971266 (0.000476) with: {'batch_size': 64, 'epochs': 5, 'optimizer': 'rmsprop'}\n",
      "0.973933 (0.002771) with: {'batch_size': 64, 'epochs': 10, 'optimizer': 'adam'}\n",
      "0.974516 (0.000380) with: {'batch_size': 64, 'epochs': 10, 'optimizer': 'rmsprop'}\n",
      "0.969566 (0.001999) with: {'batch_size': 128, 'epochs': 5, 'optimizer': 'adam'}\n",
      "0.969849 (0.000602) with: {'batch_size': 128, 'epochs': 5, 'optimizer': 'rmsprop'}\n",
      "0.973133 (0.002992) with: {'batch_size': 128, 'epochs': 10, 'optimizer': 'adam'}\n",
      "0.974200 (0.001505) with: {'batch_size': 128, 'epochs': 10, 'optimizer': 'rmsprop'}\n",
      "Best: 0.974900 using {'batch_size': 32, 'epochs': 10, 'optimizer': 'adam'}\n",
      "Test Loss: 0.06917008339077976, Test Accuracy: 0.9816981698169817\n",
      "ROC AUC Score: 0.9996801822266145\n",
      "Recall Score: 0.9815612260943596\n",
      "Model saved as best_fcnn_model.pkl\n",
      "No exception occurred\n"
     ]
    }
   ],
   "source": [
    "import sys\n",
    "\n",
    "# Add the parent directory to sys.path\n",
    "sys.path.append('../')\n",
    "\n",
    "from src.preprocess.preprocess import ReadAndLoadMnistData\n",
    "from src.preprocess.preprocess import plot_images\n",
    "\n",
    "import numpy as np\n",
    "import matplotlib.pyplot as plt\n",
    "#matplotlib inline\n",
    "import keras\n",
    "from keras.models import Sequential\n",
    "from keras.layers import Dense, Input, Dropout\n",
    "from sklearn.metrics import confusion_matrix\n",
    "import seaborn as sns\n",
    "from sklearn.model_selection import GridSearchCV\n",
    "from scikeras.wrappers import KerasClassifier\n",
    "from tensorflow.keras.utils import plot_model\n",
    "from sklearn.metrics import accuracy_score, log_loss, roc_auc_score, recall_score\n",
    "import pandas as pd\n",
    "import pickle\n",
    "\n",
    "# Function to build model, required for KerasClassifier\n",
    "def build_model(optimizer='adam', init='glorot_uniform'):\n",
    "    model = Sequential()\n",
    "    model.add(Input(shape=(784,)))\n",
    "    model.add(Dense(units=128, activation='relu', kernel_initializer=init))\n",
    "    model.add(Dropout(0.10))\n",
    "    model.add(Dense(units=128, activation='relu', kernel_initializer=init))\n",
    "    model.add(Dropout(0.25))\n",
    "    model.add(Dense(units=10, activation='softmax', kernel_initializer=init))\n",
    "    model.compile(loss='sparse_categorical_crossentropy', optimizer=optimizer, metrics=['accuracy'])\n",
    "    model.summary()\n",
    "    plot_model(model, to_file='fcnn_model_gridsearchcv2.png', show_shapes=True, show_layer_names=True)\n",
    "    return model\n",
    "\n",
    "class FCNNTrainAndPredict:\n",
    "    \n",
    "    def __init__(self, input_shape, X_train, y_train, X_test, y_test):\n",
    "        print(\"FCNNTrainAndPredict: __init__\")\n",
    "        np.random.seed(0)\n",
    "        self.initialize()\n",
    "        self.input_shape = input_shape\n",
    "        self.init_data(X_train, y_train, X_test, y_test)\n",
    "        self.one_hot_encode()\n",
    "\n",
    "    def initialize(self):\n",
    "        self.fcnn_model = None\n",
    "        self.best_model = None\n",
    "        self.best_params = None\n",
    "        self.best_accuracy = 0.0\n",
    "        self.best_score = 0.0\n",
    "        self.best_recall = 0.0\n",
    "\n",
    "    def init_data(self, X_train, y_train, X_test, y_test):\n",
    "        self.X_train = X_train\n",
    "        self.y_train = y_train\n",
    "        self.X_test = X_test\n",
    "        self.y_test = y_test\n",
    "\n",
    "    def one_hot_encode(self):\n",
    "        num_classes = 10\n",
    "        # self.y_train = keras.utils.to_categorical(self.y_train, num_classes)\n",
    "        # self.y_test = keras.utils.to_categorical(self.y_test, num_classes)\n",
    "        # Alternative: Ensure y_train is already integers\n",
    "        self.y_train = np.array(self.y_train).astype(int)\n",
    "        self.y_test = np.array(self.y_test).astype(int)\n",
    "        print(self.y_train)\n",
    "        print(self.X_train) \n",
    "    \n",
    "    def train(self):\n",
    "        print(\"FCNNTrainAndPredict: train\")\n",
    "        # Create the KerasClassifier\n",
    "        keras_model = KerasClassifier(model=build_model, verbose=1, init='glorot_uniform')\n",
    "        \n",
    "        # Define the grid search parameters\n",
    "        param_grid = {\n",
    "            'batch_size': [32, 64, 128],\n",
    "            'epochs': [5, 10],\n",
    "            'optimizer': ['adam', 'rmsprop']\n",
    "        }\n",
    "        \n",
    "        # Create GridSearchCV with error_score='raise'\n",
    "        grid = GridSearchCV(estimator=keras_model, param_grid=param_grid, n_jobs=-1, cv=3, error_score='raise')\n",
    "        \n",
    "        # Fit the grid search\n",
    "        grid_result = grid.fit(self.X_train, self.y_train)\n",
    "        \n",
    "        if self.fcnn_model is not None:\n",
    "            plot_model(self.fcnn_model, to_file='fcnn_model_gridsearchcv2.png', show_shapes=True, show_layer_names=True)            \n",
    "            \n",
    "        return grid_result\n",
    "    \n",
    "    def evaluate(self, grid_result):\n",
    "        print(\"FCNNTrainAndPredict: evaluate\")        \n",
    "        \n",
    "        # Get the best model\n",
    "        self.best_model = grid_result.best_estimator_\n",
    "        self.best_score = grid_result.best_score_\n",
    "        self.best_params = grid_result.best_params_\n",
    "\n",
    "        # Make predictions\n",
    "        y_pred = self.best_model.predict(self.X_test)\n",
    "        y_pred_proba = self.best_model.predict_proba(self.X_test)\n",
    "        \n",
    "        # Summarize results\n",
    "        # Assuming grid_result is the result of GridSearchCV\n",
    "        cv_results = grid_result.cv_results_        \n",
    "        # Convert the cv_results_ dictionary into a DataFrame\n",
    "        cv_results_df = pd.DataFrame(cv_results)        \n",
    "        # Save the DataFrame to a CSV file\n",
    "        cv_results_df.to_csv('cv_results.csv', index=False)\n",
    "        # Display the entire DataFrame\n",
    "        print(cv_results_df)\n",
    "\n",
    "        means = grid_result.cv_results_['mean_test_score']\n",
    "        stds = grid_result.cv_results_['std_test_score']\n",
    "        params = grid_result.cv_results_['params']\n",
    "        for mean, stdev, param in zip(means, stds, params):\n",
    "            print(\"%f (%f) with: %r\" % (mean, stdev, param))\n",
    "\n",
    "        print(\"Best: %f using %s\" % (grid_result.best_score_, grid_result.best_params_))\n",
    "        \n",
    "        # Calculate accuracy and log loss\n",
    "        test_acc = accuracy_score(self.y_test, y_pred)\n",
    "        test_loss = log_loss(self.y_test, y_pred_proba)\n",
    "        print(\"Test Loss: {}, Test Accuracy: {}\".format(test_loss, test_acc))\n",
    "\n",
    "        # Calculate ROC AUC score and recall score\n",
    "        roc_auc = roc_auc_score(self.y_test, y_pred_proba, multi_class='ovr')\n",
    "        recall = recall_score(self.y_test, y_pred, average='macro')\n",
    "        print(\"ROC AUC Score: {}\".format(roc_auc))\n",
    "        print(\"Recall Score: {}\".format(recall))\n",
    "\n",
    "    \n",
    "    def train_and_evaluate(self):\n",
    "        print(\"FCNNTrainAndPredict: train_and_evaluate\")\n",
    "        grid_result = self.train()\n",
    "        self.evaluate(grid_result)\n",
    "        self.save_model()\n",
    "\n",
    "    def save_model(self, filename=\"best_fcnn_model.pkl\"):\n",
    "        \"\"\"Saves the trained model to a pickle file\"\"\"\n",
    "        if self.best_model is None:\n",
    "            raise Exception(\"No trained model found to save.\")\n",
    "        with open(filename, \"wb\") as f:\n",
    "            pickle.dump(self.best_model, f)\n",
    "        print(f\"Model saved as {filename}\")\n",
    "\n",
    "    @staticmethod\n",
    "    def load_model(filename=\"best_fcnn_model.pkl\"):\n",
    "        \"\"\"Loads a trained model from a pickle file\"\"\"\n",
    "        if not os.path.exists(filename):\n",
    "            raise Exception(f\"Model file {filename} not found!\")\n",
    "        with open(filename, \"rb\") as f:\n",
    "            model = pickle.load(f)\n",
    "        print(f\"Model loaded from {filename}\")\n",
    "        return model\n",
    "        \n",
    "    def get_best_params(self):\n",
    "        print(\"FCNNTrainAndPredict: get_best_params\")\n",
    "        if self.best_params is None:\n",
    "            raise Exception(\"Model not trained yet\")\n",
    "        return self.best_params\n",
    "    \n",
    "    def predict(self, X):\n",
    "        print(\"FCNNTrainAndPredict: predict\")\n",
    "        if self.best_model is None:\n",
    "            raise Exception(\"Model not trained yet\")\n",
    "        return self.best_model.predict(X)\n",
    "\n",
    "if __name__ == \"__main__\":\n",
    "    # Using the ReadAndLoadMnistData class defined in the notebook\n",
    "    train_file = \"../dataset/mnist_train.csv\"\n",
    "    test_file = \"../dataset/mnist_test.csv\"\n",
    "    \n",
    "    with ReadAndLoadMnistData(train_file, test_file) as minst_data:\n",
    "        X_train, y_train, X_test, y_test = minst_data.load_data()\n",
    "        # Normalize the images\n",
    "        X_train = X_train / 255.0\n",
    "        X_test = X_test / 255.0\n",
    "        \n",
    "        # Example usage:\n",
    "        fcnn = FCNNTrainAndPredict(28 * 28, X_train, y_train, X_test, y_test)\n",
    "        fcnn.train_and_evaluate()"
   ]
  },
  {
   "cell_type": "code",
   "execution_count": 3,
   "id": "fc3e1cf8-af05-4e5c-b2c7-e867efba7a37",
   "metadata": {},
   "outputs": [
    {
     "data": {
      "text/plain": [
       "<__main__.FCNNTrainAndPredict at 0x16e778c0f70>"
      ]
     },
     "execution_count": 3,
     "metadata": {},
     "output_type": "execute_result"
    }
   ],
   "source": [
    "fcnn"
   ]
  },
  {
   "cell_type": "code",
   "execution_count": 4,
   "id": "53b377e4-7c0f-401e-9667-fd9d0119ea8c",
   "metadata": {},
   "outputs": [
    {
     "name": "stdout",
     "output_type": "stream",
     "text": [
      "FCNNTrainAndPredict: get_best_params\n"
     ]
    },
    {
     "data": {
      "text/plain": [
       "{'batch_size': 32, 'epochs': 10, 'optimizer': 'adam'}"
      ]
     },
     "execution_count": 4,
     "metadata": {},
     "output_type": "execute_result"
    }
   ],
   "source": [
    "fcnn.get_best_params()"
   ]
  },
  {
   "cell_type": "code",
   "execution_count": null,
   "id": "b2a9347b-b17d-4c18-9965-1e68bceaaf72",
   "metadata": {},
   "outputs": [
    {
     "name": "stdout",
     "output_type": "stream",
     "text": [
      "FCNNTrainAndPredict: predict\n",
      "\u001b[1m313/313\u001b[0m \u001b[32m━━━━━━━━━━━━━━━━━━━━\u001b[0m\u001b[37m\u001b[0m \u001b[1m0s\u001b[0m 723us/step\n",
      "6\n",
      "()\n"
     ]
    }
   ],
   "source": [
    "y_pred_ = fcnn.predict(X_test)\n",
    "\n",
    "# Print the shape of the predicted labels\n",
    "# Decode one-hot encoded labels\n",
    "decoded_labels = np.argmax(y_pred_)\n",
    "\n",
    "# Print the decoded labels\n",
    "print(decoded_labels)\n",
    "print(decoded_labels.shape)"
   ]
  },
  {
   "cell_type": "code",
   "execution_count": 14,
   "id": "ed62f8af-59df-4092-a834-31d79e921e99",
   "metadata": {},
   "outputs": [
    {
     "data": {
      "text/plain": [
       "pandas.core.frame.DataFrame"
      ]
     },
     "execution_count": 14,
     "metadata": {},
     "output_type": "execute_result"
    }
   ],
   "source": [
    "type(X_test)"
   ]
  },
  {
   "cell_type": "code",
   "execution_count": null,
   "id": "625d16c7",
   "metadata": {},
   "outputs": [
    {
     "data": {
      "text/plain": [
       "Text(0.5, 1.0, 'Confusion Matrix')"
      ]
     },
     "execution_count": 11,
     "metadata": {},
     "output_type": "execute_result"
    },
    {
     "data": {
      "image/png": "[encoded data removed]",
      "text/plain": [
       "<Figure size 1500x1000 with 2 Axes>"
      ]
     },
     "metadata": {},
     "output_type": "display_data"
    }
   ],
   "source": [
    "confusion_mtx = confusion_matrix(y_test, y_pred_proba)\n",
    "\n",
    "# Plot\n",
    "fig, ax = plt.subplots(figsize=(15,10))\n",
    "ax = sns.heatmap(confusion_mtx, annot=True, fmt='d', ax=ax, cmap=\"Blues\")\n",
    "ax.set_xlabel('Predicted Label')\n",
    "ax.set_ylabel('True Label')\n",
    "ax.set_title('Confusion Matrix')"
   ]
  },
  {
   "cell_type": "code",
   "execution_count": null,
   "id": "fe3bc95c",
   "metadata": {},
   "outputs": [],
   "source": [
    "y_pred_classes = np.argmax(y_pred, axis=1)"
   ]
  }
 ],
 "metadata": {
  "kernelspec": {
   "display_name": "advanced_mlops_env",
   "language": "python",
   "name": "python3"
  },
  "language_info": {
   "codemirror_mode": {
    "name": "ipython",
    "version": 3
   },
   "file_extension": ".py",
   "mimetype": "text/x-python",
   "name": "python",
   "nbconvert_exporter": "python",
   "pygments_lexer": "ipython3",
   "version": "3.9.20"
  },
  "widgets": {
   "application/vnd.jupyter.widget-state+json": {
    "state": {},
    "version_major": 2,
    "version_minor": 0
   }
  }
 },
 "nbformat": 4,
 "nbformat_minor": 5
}
